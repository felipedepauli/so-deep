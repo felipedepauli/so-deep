{
 "cells": [
  {
   "cell_type": "code",
   "execution_count": 285,
   "metadata": {},
   "outputs": [
    {
     "data": {
      "text/html": [
       "\n",
       "<style>\n",
       "    * {\n",
       "        font-family: SaxMono, Consolas, monospace; \n",
       "        font-size: 16px !important;\n",
       "        text-align: justify !important;\n",
       "        line-height: 1.1 !important;\n",
       "    }\n",
       "    .output-plaintext, .output-stream, .output {\n",
       "        font-family: SaxMono, Consolas, monospace; \n",
       "        line-height: 1.3 !important;\n",
       "        font-size: 12px !important;\n",
       "    }\n",
       "</style>\n"
      ],
      "text/plain": [
       "<IPython.core.display.HTML object>"
      ]
     },
     "execution_count": 285,
     "metadata": {},
     "output_type": "execute_result"
    }
   ],
   "source": [
    "from IPython.core.display import HTML\n",
    "HTML(r\"\"\"\n",
    "<style>\n",
    "    * {\n",
    "        font-family: SaxMono, Consolas, monospace; \n",
    "        font-size: 16px !important;\n",
    "        text-align: justify !important;\n",
    "        line-height: 1.1 !important;\n",
    "    }\n",
    "    .output-plaintext, .output-stream, .output {\n",
    "        font-family: SaxMono, Consolas, monospace; \n",
    "        line-height: 1.3 !important;\n",
    "        font-size: 12px !important;\n",
    "    }\n",
    "</style>\n",
    "\"\"\")"
   ]
  },
  {
   "cell_type": "markdown",
   "metadata": {},
   "source": [
    "# DL01 - Regression"
   ]
  },
  {
   "cell_type": "markdown",
   "metadata": {},
   "source": [
    "Author  : Felipe Camargo de Pauli  \n",
    "Email   : fcdpauli@gmail.com  \n",
    "Date    : March 2024  \n",
    "\n",
    "This is the first program used to aply the regression models.\n",
    "\n",
    "\n",
    "For every deep learning problem, we need the following steps:\n",
    "\n",
    "**1.  An Architecture**\n",
    "> Our architecture will have:\n",
    "> - One input layer with 30 neurons (the number of features)\n",
    "> - One hidden layer with 15 neurons (half of the input layer)\n",
    "> - One output layer with 1 neuron  (the target)\n",
    "\n",
    "**2. A Loss Function (our error to feel the gradient)**\n",
    "> We are going to use the binary cross-entropy loss function.\n",
    "\n",
    "**3. An Optimizer (our gradient descent)**\n",
    "> We are going to use the Adam optimizer.\n",
    "\n",
    "**4. An activation function (our non-linearity)**\n",
    "> We are going to use the ReLU activation function for the hidden layer and the sigmoid activation function for the output layer.\n",
    "> - Relu: f(x) = max(0, x)\n",
    "> - Sigmoid: f(x) = 1 / (1 + exp(-x))  \n",
    "\n",
    "> The ReLU function is used to introduce non-linearity. That's because the linear combination of linear functions is still a linear function, and we need non-linearity to solve complex problems.\n",
    "> The sigmoid function is used to transform the output to a probability.\n"
   ]
  },
  {
   "cell_type": "markdown",
   "metadata": {},
   "source": [
    "# Coding"
   ]
  },
  {
   "cell_type": "code",
   "execution_count": 286,
   "metadata": {},
   "outputs": [],
   "source": [
    "from tensorflow.keras.models import Sequential\n",
    "from tensorflow.keras.layers import Input, Dense\n",
    "from tensorflow.keras.optimizers import SGD"
   ]
  },
  {
   "cell_type": "code",
   "execution_count": 287,
   "metadata": {},
   "outputs": [],
   "source": [
    "import pandas as pd\n",
    "import numpy as np\n",
    "import matplotlib.pyplot as plt"
   ]
  },
  {
   "cell_type": "code",
   "execution_count": 288,
   "metadata": {},
   "outputs": [],
   "source": [
    "# Get the data\n",
    "# !wget https://raw.githubusercontent.com/lazyprogrammer/machine_learning_examples/master/tf2.0/moore.csv"
   ]
  },
  {
   "cell_type": "code",
   "execution_count": 289,
   "metadata": {},
   "outputs": [
    {
     "name": "stdout",
     "output_type": "stream",
     "text": [
      "1971,2300\n",
      "1972,3500\n",
      "1973,2500\n",
      "1973,2500\n",
      "1974,4100\n",
      "1974,4500\n",
      "1974,8000\n",
      "1975,3510\n",
      "1976,5000\n",
      "1976,8500\n"
     ]
    }
   ],
   "source": [
    "!head moore.csv"
   ]
  },
  {
   "cell_type": "code",
   "execution_count": 290,
   "metadata": {},
   "outputs": [
    {
     "data": {
      "text/html": [
       "<div>\n",
       "<style scoped>\n",
       "    .dataframe tbody tr th:only-of-type {\n",
       "        vertical-align: middle;\n",
       "    }\n",
       "\n",
       "    .dataframe tbody tr th {\n",
       "        vertical-align: top;\n",
       "    }\n",
       "\n",
       "    .dataframe thead th {\n",
       "        text-align: right;\n",
       "    }\n",
       "</style>\n",
       "<table border=\"1\" class=\"dataframe\">\n",
       "  <thead>\n",
       "    <tr style=\"text-align: right;\">\n",
       "      <th></th>\n",
       "      <th>0</th>\n",
       "      <th>1</th>\n",
       "    </tr>\n",
       "  </thead>\n",
       "  <tbody>\n",
       "    <tr>\n",
       "      <th>0</th>\n",
       "      <td>1971</td>\n",
       "      <td>2300</td>\n",
       "    </tr>\n",
       "    <tr>\n",
       "      <th>1</th>\n",
       "      <td>1972</td>\n",
       "      <td>3500</td>\n",
       "    </tr>\n",
       "    <tr>\n",
       "      <th>2</th>\n",
       "      <td>1973</td>\n",
       "      <td>2500</td>\n",
       "    </tr>\n",
       "    <tr>\n",
       "      <th>3</th>\n",
       "      <td>1973</td>\n",
       "      <td>2500</td>\n",
       "    </tr>\n",
       "    <tr>\n",
       "      <th>4</th>\n",
       "      <td>1974</td>\n",
       "      <td>4100</td>\n",
       "    </tr>\n",
       "    <tr>\n",
       "      <th>...</th>\n",
       "      <td>...</td>\n",
       "      <td>...</td>\n",
       "    </tr>\n",
       "    <tr>\n",
       "      <th>157</th>\n",
       "      <td>2017</td>\n",
       "      <td>18000000000</td>\n",
       "    </tr>\n",
       "    <tr>\n",
       "      <th>158</th>\n",
       "      <td>2017</td>\n",
       "      <td>19200000000</td>\n",
       "    </tr>\n",
       "    <tr>\n",
       "      <th>159</th>\n",
       "      <td>2018</td>\n",
       "      <td>8876000000</td>\n",
       "    </tr>\n",
       "    <tr>\n",
       "      <th>160</th>\n",
       "      <td>2018</td>\n",
       "      <td>23600000000</td>\n",
       "    </tr>\n",
       "    <tr>\n",
       "      <th>161</th>\n",
       "      <td>2018</td>\n",
       "      <td>9000000000</td>\n",
       "    </tr>\n",
       "  </tbody>\n",
       "</table>\n",
       "<p>162 rows × 2 columns</p>\n",
       "</div>"
      ],
      "text/plain": [
       "        0            1\n",
       "0    1971         2300\n",
       "1    1972         3500\n",
       "2    1973         2500\n",
       "3    1973         2500\n",
       "4    1974         4100\n",
       "..    ...          ...\n",
       "157  2017  18000000000\n",
       "158  2017  19200000000\n",
       "159  2018   8876000000\n",
       "160  2018  23600000000\n",
       "161  2018   9000000000\n",
       "\n",
       "[162 rows x 2 columns]"
      ]
     },
     "execution_count": 290,
     "metadata": {},
     "output_type": "execute_result"
    }
   ],
   "source": [
    "df = pd.read_csv('moore.csv', header=None)\n",
    "df"
   ]
  },
  {
   "cell_type": "code",
   "execution_count": 291,
   "metadata": {},
   "outputs": [
    {
     "data": {
      "text/plain": [
       "array([[       1971,        2300],\n",
       "       [       1972,        3500],\n",
       "       [       1973,        2500],\n",
       "       [       1973,        2500],\n",
       "       [       1974,        4100],\n",
       "       [       1974,        4500],\n",
       "       [       1974,        8000],\n",
       "       [       1975,        3510],\n",
       "       [       1976,        5000],\n",
       "       [       1976,        8500],\n",
       "       [       1976,        6500],\n",
       "       [       1978,        9000],\n",
       "       [       1978,       29000],\n",
       "       [       1979,       17500],\n",
       "       [       1979,       29000],\n",
       "       [       1979,       68000],\n",
       "       [       1981,       11500],\n",
       "       [       1982,       55000],\n",
       "       [       1982,      134000],\n",
       "       [       1983,       22000],\n",
       "       [       1984,       63000],\n",
       "       [       1984,      190000],\n",
       "       [       1985,      275000],\n",
       "       [       1985,       25000],\n",
       "       [       1985,       16000],\n",
       "       [       1986,      110000],\n",
       "       [       1986,      375000],\n",
       "       [       1986,       30000],\n",
       "       [       1987,      385000],\n",
       "       [       1987,      730000],\n",
       "       [       1987,      273000],\n",
       "       [       1987,      553000],\n",
       "       [       1988,      180000],\n",
       "       [       1988,      250000],\n",
       "       [       1989,      600000],\n",
       "       [       1989,     1000000],\n",
       "       [       1989,     1180235],\n",
       "       [       1989,      310000],\n",
       "       [       1990,     1200000],\n",
       "       [       1991,     1350000],\n",
       "       [       1991,       35000],\n",
       "       [       1992,      600000],\n",
       "       [       1992,      900000],\n",
       "       [       1993,     2800000],\n",
       "       [       1993,     3100000],\n",
       "       [       1994,      578977],\n",
       "       [       1994,     2500000],\n",
       "       [       1995,     2500000],\n",
       "       [       1999,      111000],\n",
       "       [       1995,     5500000],\n",
       "       [       1996,     4300000],\n",
       "       [       1997,    10000000],\n",
       "       [       1997,     7500000],\n",
       "       [       1997,     8800000],\n",
       "       [       1998,     7500000],\n",
       "       [       1999,     9500000],\n",
       "       [       1999,    13500000],\n",
       "       [       2000,    21000000],\n",
       "       [       2000,    21000000],\n",
       "       [       1999,    27400000],\n",
       "       [       1999,    21300000],\n",
       "       [       1999,    22000000],\n",
       "       [       2000,    42000000],\n",
       "       [       2001,   191000000],\n",
       "       [       2001,    45000000],\n",
       "       [       2002,    55000000],\n",
       "       [       2004,   112000000],\n",
       "       [       2004,   400000000],\n",
       "       [       2005,   169000000],\n",
       "       [       2006,   184000000],\n",
       "       [       2005,   228000000],\n",
       "       [       2006,   362000000],\n",
       "       [       2007,   540000000],\n",
       "       [       2008,    47000000],\n",
       "       [       2003,    54300000],\n",
       "       [       2003,   105900000],\n",
       "       [       2002,   220000000],\n",
       "       [       2005,   165000000],\n",
       "       [       2005,   250000000],\n",
       "       [       2006,   291000000],\n",
       "       [       2007,   169000000],\n",
       "       [       2003,   410000000],\n",
       "       [       2008,   600000000],\n",
       "       [       2009,   760000000],\n",
       "       [       2011,  1870000000],\n",
       "       [       2012,   432000000],\n",
       "       [       2007,   463000000],\n",
       "       [       2007,    26000000],\n",
       "       [       2008,   230000000],\n",
       "       [       2004,   592000000],\n",
       "       [       2007,   411000000],\n",
       "       [       2008,   731000000],\n",
       "       [       2008,   758000000],\n",
       "       [       2007,   789000000],\n",
       "       [       2009,   904000000],\n",
       "       [       2010,  1000000000],\n",
       "       [       2012,  2990000000],\n",
       "       [       2013,  1000000000],\n",
       "       [       2011,  1160000000],\n",
       "       [       2010,  1170000000],\n",
       "       [       2010,  1200000000],\n",
       "       [       2012,  1200000000],\n",
       "       [       2012,  1303000000],\n",
       "       [       2010,  1400000000],\n",
       "       [       2012,  1400000000],\n",
       "       [       2014,  1400000000],\n",
       "       [       2006,  1700000000],\n",
       "       [       2015,  1750000000],\n",
       "       [       2013,  1860000000],\n",
       "       [       2015,  1900000000],\n",
       "       [       2008,  1900000000],\n",
       "       [       2010,  2000000000],\n",
       "       [       2014,  2000000000],\n",
       "       [       2015,  2000000000],\n",
       "       [       2015,  3000000000],\n",
       "       [       2012,  2100000000],\n",
       "       [       2011,  2270000000],\n",
       "       [       2010,  2300000000],\n",
       "       [       2014,  2600000000],\n",
       "       [       2011,  2600000000],\n",
       "       [       2012,  2750000000],\n",
       "       [       2014,  3000000000],\n",
       "       [       2016,  3000000000],\n",
       "       [       2017,  5300000000],\n",
       "       [       2017,  5300000000],\n",
       "       [       2018,  8500000000],\n",
       "       [       2012,  3100000000],\n",
       "       [       2016,  3200000000],\n",
       "       [       2016,  3300000000],\n",
       "       [       2015,  3990000000],\n",
       "       [       2013,  4200000000],\n",
       "       [       2017,  4300000000],\n",
       "       [       2014,  4310000000],\n",
       "       [       2017,  4800000000],\n",
       "       [       2017,  4800000000],\n",
       "       [       2017,  4800000000],\n",
       "       [       2012,  5000000000],\n",
       "       [       2013,  5000000000],\n",
       "       [       2014,  5560000000],\n",
       "       [       2017,  6100000000],\n",
       "       [       2018,  6900000000],\n",
       "       [       2016,  4000000000],\n",
       "       [       2018,  6900000000],\n",
       "       [       2017,  5500000000],\n",
       "       [       2018,  5500000000],\n",
       "       [       2017,  7000000000],\n",
       "       [       2015,  7100000000],\n",
       "       [       2017,  8000000000],\n",
       "       [       2016,  7200000000],\n",
       "       [       2017,  8000000000],\n",
       "       [       2016,  8000000000],\n",
       "       [       2017,  9700000000],\n",
       "       [       2017,   250000000],\n",
       "       [       2015, 10000000000],\n",
       "       [       2017,  5450000000],\n",
       "       [       2018, 10000000000],\n",
       "       [       2017,  4300000000],\n",
       "       [       2017, 18000000000],\n",
       "       [       2017, 19200000000],\n",
       "       [       2018,  8876000000],\n",
       "       [       2018, 23600000000],\n",
       "       [       2018,  9000000000]])"
      ]
     },
     "execution_count": 291,
     "metadata": {},
     "output_type": "execute_result"
    }
   ],
   "source": [
    "data = df.to_numpy()\n",
    "data"
   ]
  },
  {
   "cell_type": "markdown",
   "metadata": {},
   "source": [
    "Look that we got a whole sample inside an array. All the features and the target are inside the same array. We need to split them into two different arrays."
   ]
  },
  {
   "cell_type": "code",
   "execution_count": 292,
   "metadata": {},
   "outputs": [
    {
     "name": "stdout",
     "output_type": "stream",
     "text": [
      "Shape (162,)\n",
      "[1971 1972 1973 1973 1974 1974 1974 1975 1976 1976]\n",
      "---------------\n",
      "Shape (162, 1)\n",
      "[[1971]\n",
      " [1972]\n",
      " [1973]\n",
      " [1973]\n",
      " [1974]\n",
      " [1974]\n",
      " [1974]\n",
      " [1975]\n",
      " [1976]\n",
      " [1976]]\n"
     ]
    }
   ],
   "source": [
    "X = data[:, 0]\n",
    "print(\"Shape\", X.shape)\n",
    "print(X[:10])\n",
    "print(\"---------------\")\n",
    "X = X.reshape(-1, 1)\n",
    "print(\"Shape\", X.shape)\n",
    "print(X[:10])"
   ]
  },
  {
   "cell_type": "markdown",
   "metadata": {},
   "source": [
    "We have to reshape the data because the neural network needs a 2D input. It expects multiple features for each sample. Then, you have, in this case, to reshape the unique feature to a 2D array.\n",
    "\n",
    "The -1 means that we want to keep the number of samples, and the 1 means that we want to reshape the unique feature to a 2D array."
   ]
  },
  {
   "cell_type": "code",
   "execution_count": 293,
   "metadata": {},
   "outputs": [
    {
     "data": {
      "text/plain": [
       "(162,)"
      ]
     },
     "execution_count": 293,
     "metadata": {},
     "output_type": "execute_result"
    }
   ],
   "source": [
    "Y = data[:, 1]\n",
    "Y.shape"
   ]
  },
  {
   "cell_type": "markdown",
   "metadata": {},
   "source": [
    "The Y variable is already in the correct shape. The neural network expects a 1D with the target."
   ]
  },
  {
   "cell_type": "code",
   "execution_count": 294,
   "metadata": {},
   "outputs": [
    {
     "data": {
      "image/png": "[encoded data removed]",
      "text/plain": [
       "<Figure size 640x480 with 1 Axes>"
      ]
     },
     "metadata": {},
     "output_type": "display_data"
    }
   ],
   "source": [
    "# Plot the data\n",
    "plt.scatter(X, Y);"
   ]
  },
  {
   "cell_type": "markdown",
   "metadata": {},
   "source": [
    "Well, as expected, we got a non-linear result. It's logistic function."
   ]
  },
  {
   "cell_type": "code",
   "execution_count": 295,
   "metadata": {},
   "outputs": [
    {
     "data": {
      "image/png": "[encoded data removed]",
      "text/plain": [
       "<Figure size 640x480 with 1 Axes>"
      ]
     },
     "metadata": {},
     "output_type": "display_data"
    }
   ],
   "source": [
    "# Transform the data to log scale\n",
    "Y = np.log(Y)\n",
    "\n",
    "# Plot the data\n",
    "plt.scatter(X, Y);"
   ]
  },
  {
   "cell_type": "markdown",
   "metadata": {},
   "source": [
    "Wow! Now we got a linear function."
   ]
  },
  {
   "cell_type": "code",
   "execution_count": 296,
   "metadata": {},
   "outputs": [],
   "source": [
    "X = X - X.mean()"
   ]
  },
  {
   "cell_type": "code",
   "execution_count": 297,
   "metadata": {},
   "outputs": [],
   "source": [
    "model_regression_0 = Sequential([\n",
    "    Input(shape=(1,)),\n",
    "    Dense(1)\n",
    "])"
   ]
  },
  {
   "cell_type": "markdown",
   "metadata": {},
   "source": [
    "The reason we are going to use mean_squared_error instead of binary_crossentropy is that we are going to use the regression model instead of the classification model, and the error difficulty is equal to zero. If the ground_truth is 2, 2.001 is a good prediction. Then we use mse to penalize the larger errors."
   ]
  },
  {
   "cell_type": "code",
   "execution_count": 298,
   "metadata": {},
   "outputs": [],
   "source": [
    "model_regression_0.compile(\n",
    "    optimizer = SGD(0.001, 0.9),\n",
    "    loss      = 'mse',\n",
    ")"
   ]
  },
  {
   "cell_type": "code",
   "execution_count": 299,
   "metadata": {},
   "outputs": [],
   "source": [
    "def schedule(epoch, lr):\n",
    "    if epoch >= 50:\n",
    "        return 0.0001\n",
    "    return 0.001"
   ]
  },
  {
   "cell_type": "code",
   "execution_count": 300,
   "metadata": {},
   "outputs": [],
   "source": [
    "import tensorflow as tf\n",
    "scheduler = tf.keras.callbacks.LearningRateScheduler(schedule)"
   ]
  },
  {
   "cell_type": "code",
   "execution_count": 301,
   "metadata": {},
   "outputs": [
    {
     "name": "stdout",
     "output_type": "stream",
     "text": [
      "Epoch 1/200\n",
      "6/6 [==============================] - 1s 5ms/step - loss: 313.2339 - lr: 0.0010\n",
      "Epoch 2/200\n",
      "6/6 [==============================] - 0s 4ms/step - loss: 322.9540 - lr: 0.0010\n",
      "Epoch 3/200\n",
      "6/6 [==============================] - 0s 3ms/step - loss: 332.6602 - lr: 0.0010\n",
      "Epoch 4/200\n",
      "6/6 [==============================] - 0s 3ms/step - loss: 233.0917 - lr: 0.0010\n",
      "Epoch 5/200\n",
      "6/6 [==============================] - 0s 3ms/step - loss: 227.6384 - lr: 0.0010\n",
      "Epoch 6/200\n",
      "6/6 [==============================] - 0s 3ms/step - loss: 261.7043 - lr: 0.0010\n",
      "Epoch 7/200\n",
      "6/6 [==============================] - 0s 3ms/step - loss: 257.9277 - lr: 0.0010\n",
      "Epoch 8/200\n",
      "6/6 [==============================] - 0s 2ms/step - loss: 188.9390 - lr: 0.0010\n",
      "Epoch 9/200\n",
      "6/6 [==============================] - 0s 2ms/step - loss: 104.4175 - lr: 0.0010\n",
      "Epoch 10/200\n",
      "6/6 [==============================] - 0s 3ms/step - loss: 135.3272 - lr: 0.0010\n",
      "Epoch 11/200\n",
      "6/6 [==============================] - 0s 3ms/step - loss: 110.2171 - lr: 0.0010\n",
      "Epoch 12/200\n",
      "6/6 [==============================] - 0s 3ms/step - loss: 113.7743 - lr: 0.0010\n",
      "Epoch 13/200\n",
      "6/6 [==============================] - 0s 3ms/step - loss: 64.1156 - lr: 0.0010\n",
      "Epoch 14/200\n",
      "6/6 [==============================] - 0s 3ms/step - loss: 39.3287 - lr: 0.0010\n",
      "Epoch 15/200\n",
      "6/6 [==============================] - 0s 2ms/step - loss: 36.0823 - lr: 0.0010\n",
      "Epoch 16/200\n",
      "6/6 [==============================] - 0s 3ms/step - loss: 33.8244 - lr: 0.0010\n",
      "Epoch 17/200\n",
      "6/6 [==============================] - 0s 3ms/step - loss: 23.8257 - lr: 0.0010\n",
      "Epoch 18/200\n",
      "6/6 [==============================] - 0s 3ms/step - loss: 15.0544 - lr: 0.0010\n",
      "Epoch 19/200\n",
      "6/6 [==============================] - 0s 3ms/step - loss: 10.2250 - lr: 0.0010\n",
      "Epoch 20/200\n",
      "6/6 [==============================] - 0s 3ms/step - loss: 6.4595 - lr: 0.0010\n",
      "Epoch 21/200\n",
      "6/6 [==============================] - 0s 3ms/step - loss: 4.5036 - lr: 0.0010\n",
      "Epoch 22/200\n",
      "6/6 [==============================] - 0s 3ms/step - loss: 2.3047 - lr: 0.0010\n",
      "Epoch 23/200\n",
      "6/6 [==============================] - 0s 3ms/step - loss: 1.7940 - lr: 0.0010\n",
      "Epoch 24/200\n",
      "6/6 [==============================] - 0s 3ms/step - loss: 1.7674 - lr: 0.0010\n",
      "Epoch 25/200\n",
      "6/6 [==============================] - 0s 3ms/step - loss: 1.7383 - lr: 0.0010\n",
      "Epoch 26/200\n",
      "6/6 [==============================] - 0s 3ms/step - loss: 1.1472 - lr: 0.0010\n",
      "Epoch 27/200\n",
      "6/6 [==============================] - 0s 3ms/step - loss: 1.2292 - lr: 0.0010\n",
      "Epoch 28/200\n",
      "6/6 [==============================] - 0s 3ms/step - loss: 1.0705 - lr: 0.0010\n",
      "Epoch 29/200\n",
      "6/6 [==============================] - 0s 3ms/step - loss: 1.0132 - lr: 0.0010\n",
      "Epoch 30/200\n",
      "6/6 [==============================] - 0s 2ms/step - loss: 0.9646 - lr: 0.0010\n",
      "Epoch 31/200\n",
      "6/6 [==============================] - 0s 2ms/step - loss: 0.9531 - lr: 0.0010\n",
      "Epoch 32/200\n",
      "6/6 [==============================] - 0s 3ms/step - loss: 1.0315 - lr: 0.0010\n",
      "Epoch 33/200\n",
      "6/6 [==============================] - 0s 3ms/step - loss: 1.2179 - lr: 0.0010\n",
      "Epoch 34/200\n",
      "6/6 [==============================] - 0s 3ms/step - loss: 0.9508 - lr: 0.0010\n",
      "Epoch 35/200\n",
      "6/6 [==============================] - 0s 3ms/step - loss: 1.2246 - lr: 0.0010\n",
      "Epoch 36/200\n",
      "6/6 [==============================] - 0s 3ms/step - loss: 1.2021 - lr: 0.0010\n",
      "Epoch 37/200\n",
      "6/6 [==============================] - 0s 3ms/step - loss: 0.9845 - lr: 0.0010\n",
      "Epoch 38/200\n",
      "6/6 [==============================] - 0s 2ms/step - loss: 0.9572 - lr: 0.0010\n",
      "Epoch 39/200\n",
      "6/6 [==============================] - 0s 3ms/step - loss: 0.8807 - lr: 0.0010\n",
      "Epoch 40/200\n",
      "6/6 [==============================] - 0s 3ms/step - loss: 0.9000 - lr: 0.0010\n",
      "Epoch 41/200\n",
      "6/6 [==============================] - 0s 3ms/step - loss: 0.8964 - lr: 0.0010\n",
      "Epoch 42/200\n",
      "6/6 [==============================] - 0s 3ms/step - loss: 0.8831 - lr: 0.0010\n",
      "Epoch 43/200\n",
      "6/6 [==============================] - 0s 2ms/step - loss: 1.1314 - lr: 0.0010\n",
      "Epoch 44/200\n",
      "6/6 [==============================] - 0s 3ms/step - loss: 0.9985 - lr: 0.0010\n",
      "Epoch 45/200\n",
      "6/6 [==============================] - 0s 3ms/step - loss: 0.9015 - lr: 0.0010\n",
      "Epoch 46/200\n",
      "6/6 [==============================] - 0s 3ms/step - loss: 0.8784 - lr: 0.0010\n",
      "Epoch 47/200\n",
      "6/6 [==============================] - 0s 2ms/step - loss: 1.4016 - lr: 0.0010\n",
      "Epoch 48/200\n",
      "6/6 [==============================] - 0s 3ms/step - loss: 1.2136 - lr: 0.0010\n",
      "Epoch 49/200\n",
      "6/6 [==============================] - 0s 3ms/step - loss: 1.0773 - lr: 0.0010\n",
      "Epoch 50/200\n",
      "6/6 [==============================] - 0s 3ms/step - loss: 0.9169 - lr: 0.0010\n",
      "Epoch 51/200\n",
      "6/6 [==============================] - 0s 2ms/step - loss: 0.9492 - lr: 1.0000e-04\n",
      "Epoch 52/200\n",
      "6/6 [==============================] - 0s 2ms/step - loss: 1.1177 - lr: 1.0000e-04\n",
      "Epoch 53/200\n",
      "6/6 [==============================] - 0s 2ms/step - loss: 0.9392 - lr: 1.0000e-04\n",
      "Epoch 54/200\n",
      "6/6 [==============================] - 0s 3ms/step - loss: 0.9107 - lr: 1.0000e-04\n",
      "Epoch 55/200\n",
      "6/6 [==============================] - 0s 3ms/step - loss: 0.9136 - lr: 1.0000e-04\n",
      "Epoch 56/200\n",
      "6/6 [==============================] - 0s 3ms/step - loss: 0.8607 - lr: 1.0000e-04\n",
      "Epoch 57/200\n",
      "6/6 [==============================] - 0s 3ms/step - loss: 0.8854 - lr: 1.0000e-04\n",
      "Epoch 58/200\n",
      "6/6 [==============================] - 0s 3ms/step - loss: 0.8835 - lr: 1.0000e-04\n",
      "Epoch 59/200\n",
      "6/6 [==============================] - 0s 3ms/step - loss: 0.8749 - lr: 1.0000e-04\n",
      "Epoch 60/200\n",
      "6/6 [==============================] - 0s 3ms/step - loss: 0.8740 - lr: 1.0000e-04\n",
      "Epoch 61/200\n",
      "6/6 [==============================] - 0s 3ms/step - loss: 0.8703 - lr: 1.0000e-04\n",
      "Epoch 62/200\n",
      "6/6 [==============================] - 0s 3ms/step - loss: 0.8712 - lr: 1.0000e-04\n",
      "Epoch 63/200\n",
      "6/6 [==============================] - 0s 3ms/step - loss: 0.8712 - lr: 1.0000e-04\n",
      "Epoch 64/200\n",
      "6/6 [==============================] - 0s 3ms/step - loss: 0.8721 - lr: 1.0000e-04\n",
      "Epoch 65/200\n",
      "6/6 [==============================] - 0s 4ms/step - loss: 0.8725 - lr: 1.0000e-04\n",
      "Epoch 66/200\n",
      "6/6 [==============================] - 0s 3ms/step - loss: 0.8727 - lr: 1.0000e-04\n",
      "Epoch 67/200\n",
      "6/6 [==============================] - 0s 4ms/step - loss: 0.8745 - lr: 1.0000e-04\n",
      "Epoch 68/200\n",
      "6/6 [==============================] - 0s 4ms/step - loss: 0.8665 - lr: 1.0000e-04\n",
      "Epoch 69/200\n",
      "6/6 [==============================] - 0s 3ms/step - loss: 0.8832 - lr: 1.0000e-04\n",
      "Epoch 70/200\n",
      "6/6 [==============================] - 0s 3ms/step - loss: 0.8879 - lr: 1.0000e-04\n",
      "Epoch 71/200\n",
      "6/6 [==============================] - 0s 3ms/step - loss: 0.9034 - lr: 1.0000e-04\n",
      "Epoch 72/200\n",
      "6/6 [==============================] - 0s 4ms/step - loss: 0.8775 - lr: 1.0000e-04\n",
      "Epoch 73/200\n",
      "6/6 [==============================] - 0s 4ms/step - loss: 0.8726 - lr: 1.0000e-04\n",
      "Epoch 74/200\n",
      "6/6 [==============================] - 0s 4ms/step - loss: 0.8716 - lr: 1.0000e-04\n",
      "Epoch 75/200\n",
      "6/6 [==============================] - 0s 4ms/step - loss: 0.8724 - lr: 1.0000e-04\n",
      "Epoch 76/200\n",
      "6/6 [==============================] - 0s 4ms/step - loss: 0.8719 - lr: 1.0000e-04\n",
      "Epoch 77/200\n",
      "6/6 [==============================] - 0s 4ms/step - loss: 0.8709 - lr: 1.0000e-04\n",
      "Epoch 78/200\n",
      "6/6 [==============================] - 0s 5ms/step - loss: 0.8841 - lr: 1.0000e-04\n",
      "Epoch 79/200\n",
      "6/6 [==============================] - 0s 3ms/step - loss: 0.8675 - lr: 1.0000e-04\n",
      "Epoch 80/200\n",
      "6/6 [==============================] - 0s 3ms/step - loss: 0.8814 - lr: 1.0000e-04\n",
      "Epoch 81/200\n",
      "6/6 [==============================] - 0s 3ms/step - loss: 0.8784 - lr: 1.0000e-04\n",
      "Epoch 82/200\n",
      "6/6 [==============================] - 0s 3ms/step - loss: 0.8716 - lr: 1.0000e-04\n",
      "Epoch 83/200\n",
      "6/6 [==============================] - 0s 3ms/step - loss: 0.8790 - lr: 1.0000e-04\n",
      "Epoch 84/200\n",
      "6/6 [==============================] - 0s 3ms/step - loss: 0.8847 - lr: 1.0000e-04\n",
      "Epoch 85/200\n",
      "6/6 [==============================] - 0s 3ms/step - loss: 0.8816 - lr: 1.0000e-04\n",
      "Epoch 86/200\n",
      "6/6 [==============================] - 0s 3ms/step - loss: 0.8711 - lr: 1.0000e-04\n",
      "Epoch 87/200\n",
      "6/6 [==============================] - 0s 3ms/step - loss: 0.8769 - lr: 1.0000e-04\n",
      "Epoch 88/200\n",
      "6/6 [==============================] - 0s 3ms/step - loss: 0.9007 - lr: 1.0000e-04\n",
      "Epoch 89/200\n",
      "6/6 [==============================] - 0s 4ms/step - loss: 0.9174 - lr: 1.0000e-04\n",
      "Epoch 90/200\n",
      "6/6 [==============================] - 0s 3ms/step - loss: 0.8724 - lr: 1.0000e-04\n",
      "Epoch 91/200\n",
      "6/6 [==============================] - 0s 3ms/step - loss: 0.8873 - lr: 1.0000e-04\n",
      "Epoch 92/200\n",
      "6/6 [==============================] - 0s 3ms/step - loss: 0.9187 - lr: 1.0000e-04\n",
      "Epoch 93/200\n",
      "6/6 [==============================] - 0s 2ms/step - loss: 0.8777 - lr: 1.0000e-04\n",
      "Epoch 94/200\n",
      "6/6 [==============================] - 0s 3ms/step - loss: 0.8709 - lr: 1.0000e-04\n",
      "Epoch 95/200\n",
      "6/6 [==============================] - 0s 3ms/step - loss: 0.8822 - lr: 1.0000e-04\n",
      "Epoch 96/200\n",
      "6/6 [==============================] - 0s 3ms/step - loss: 0.8816 - lr: 1.0000e-04\n",
      "Epoch 97/200\n",
      "6/6 [==============================] - 0s 3ms/step - loss: 0.8836 - lr: 1.0000e-04\n",
      "Epoch 98/200\n",
      "6/6 [==============================] - 0s 3ms/step - loss: 0.8738 - lr: 1.0000e-04\n",
      "Epoch 99/200\n",
      "6/6 [==============================] - 0s 2ms/step - loss: 0.8710 - lr: 1.0000e-04\n",
      "Epoch 100/200\n",
      "6/6 [==============================] - 0s 3ms/step - loss: 0.8705 - lr: 1.0000e-04\n",
      "Epoch 101/200\n",
      "6/6 [==============================] - 0s 3ms/step - loss: 0.8709 - lr: 1.0000e-04\n",
      "Epoch 102/200\n",
      "6/6 [==============================] - 0s 4ms/step - loss: 0.8709 - lr: 1.0000e-04\n",
      "Epoch 103/200\n",
      "6/6 [==============================] - 0s 3ms/step - loss: 0.8951 - lr: 1.0000e-04\n",
      "Epoch 104/200\n",
      "6/6 [==============================] - 0s 3ms/step - loss: 0.9065 - lr: 1.0000e-04\n",
      "Epoch 105/200\n",
      "6/6 [==============================] - 0s 2ms/step - loss: 0.8766 - lr: 1.0000e-04\n",
      "Epoch 106/200\n",
      "6/6 [==============================] - 0s 2ms/step - loss: 0.8798 - lr: 1.0000e-04\n",
      "Epoch 107/200\n",
      "6/6 [==============================] - 0s 3ms/step - loss: 0.8795 - lr: 1.0000e-04\n",
      "Epoch 108/200\n",
      "6/6 [==============================] - 0s 3ms/step - loss: 0.8810 - lr: 1.0000e-04\n",
      "Epoch 109/200\n",
      "6/6 [==============================] - 0s 3ms/step - loss: 0.8747 - lr: 1.0000e-04\n",
      "Epoch 110/200\n",
      "6/6 [==============================] - 0s 3ms/step - loss: 0.8712 - lr: 1.0000e-04\n",
      "Epoch 111/200\n",
      "6/6 [==============================] - 0s 3ms/step - loss: 0.8817 - lr: 1.0000e-04\n",
      "Epoch 112/200\n",
      "6/6 [==============================] - 0s 4ms/step - loss: 0.9488 - lr: 1.0000e-04\n",
      "Epoch 113/200\n",
      "6/6 [==============================] - 0s 3ms/step - loss: 0.9065 - lr: 1.0000e-04\n",
      "Epoch 114/200\n",
      "6/6 [==============================] - 0s 4ms/step - loss: 0.9299 - lr: 1.0000e-04\n",
      "Epoch 115/200\n",
      "6/6 [==============================] - 0s 3ms/step - loss: 0.9062 - lr: 1.0000e-04\n",
      "Epoch 116/200\n",
      "6/6 [==============================] - 0s 3ms/step - loss: 0.8717 - lr: 1.0000e-04\n",
      "Epoch 117/200\n",
      "6/6 [==============================] - 0s 3ms/step - loss: 0.9005 - lr: 1.0000e-04\n",
      "Epoch 118/200\n",
      "6/6 [==============================] - 0s 3ms/step - loss: 0.8724 - lr: 1.0000e-04\n",
      "Epoch 119/200\n",
      "6/6 [==============================] - 0s 3ms/step - loss: 0.8846 - lr: 1.0000e-04\n",
      "Epoch 120/200\n",
      "6/6 [==============================] - 0s 3ms/step - loss: 0.8776 - lr: 1.0000e-04\n",
      "Epoch 121/200\n",
      "6/6 [==============================] - 0s 3ms/step - loss: 0.8725 - lr: 1.0000e-04\n",
      "Epoch 122/200\n",
      "6/6 [==============================] - 0s 4ms/step - loss: 0.8761 - lr: 1.0000e-04\n",
      "Epoch 123/200\n",
      "6/6 [==============================] - 0s 4ms/step - loss: 0.8732 - lr: 1.0000e-04\n",
      "Epoch 124/200\n",
      "6/6 [==============================] - 0s 3ms/step - loss: 0.8727 - lr: 1.0000e-04\n",
      "Epoch 125/200\n",
      "6/6 [==============================] - 0s 4ms/step - loss: 0.8754 - lr: 1.0000e-04\n",
      "Epoch 126/200\n",
      "6/6 [==============================] - 0s 4ms/step - loss: 0.8698 - lr: 1.0000e-04\n",
      "Epoch 127/200\n",
      "6/6 [==============================] - 0s 3ms/step - loss: 0.8717 - lr: 1.0000e-04\n",
      "Epoch 128/200\n",
      "6/6 [==============================] - 0s 3ms/step - loss: 0.8747 - lr: 1.0000e-04\n",
      "Epoch 129/200\n",
      "6/6 [==============================] - 0s 3ms/step - loss: 0.8891 - lr: 1.0000e-04\n",
      "Epoch 130/200\n",
      "6/6 [==============================] - 0s 4ms/step - loss: 0.8779 - lr: 1.0000e-04\n",
      "Epoch 131/200\n",
      "6/6 [==============================] - 0s 3ms/step - loss: 0.8707 - lr: 1.0000e-04\n",
      "Epoch 132/200\n",
      "6/6 [==============================] - 0s 3ms/step - loss: 0.8717 - lr: 1.0000e-04\n",
      "Epoch 133/200\n",
      "6/6 [==============================] - 0s 4ms/step - loss: 0.8707 - lr: 1.0000e-04\n",
      "Epoch 134/200\n",
      "6/6 [==============================] - 0s 4ms/step - loss: 0.8711 - lr: 1.0000e-04\n",
      "Epoch 135/200\n",
      "6/6 [==============================] - 0s 3ms/step - loss: 0.8734 - lr: 1.0000e-04\n",
      "Epoch 136/200\n",
      "6/6 [==============================] - 0s 4ms/step - loss: 0.8700 - lr: 1.0000e-04\n",
      "Epoch 137/200\n",
      "6/6 [==============================] - 0s 4ms/step - loss: 0.8705 - lr: 1.0000e-04\n",
      "Epoch 138/200\n",
      "6/6 [==============================] - 0s 3ms/step - loss: 0.8756 - lr: 1.0000e-04\n",
      "Epoch 139/200\n",
      "6/6 [==============================] - 0s 3ms/step - loss: 0.8734 - lr: 1.0000e-04\n",
      "Epoch 140/200\n",
      "6/6 [==============================] - 0s 3ms/step - loss: 0.8784 - lr: 1.0000e-04\n",
      "Epoch 141/200\n",
      "6/6 [==============================] - 0s 3ms/step - loss: 0.8733 - lr: 1.0000e-04\n",
      "Epoch 142/200\n",
      "6/6 [==============================] - 0s 3ms/step - loss: 0.9232 - lr: 1.0000e-04\n",
      "Epoch 143/200\n",
      "6/6 [==============================] - 0s 3ms/step - loss: 0.9552 - lr: 1.0000e-04\n",
      "Epoch 144/200\n",
      "6/6 [==============================] - 0s 3ms/step - loss: 0.8834 - lr: 1.0000e-04\n",
      "Epoch 145/200\n",
      "6/6 [==============================] - 0s 3ms/step - loss: 0.9059 - lr: 1.0000e-04\n",
      "Epoch 146/200\n",
      "6/6 [==============================] - 0s 3ms/step - loss: 0.9300 - lr: 1.0000e-04\n",
      "Epoch 147/200\n",
      "6/6 [==============================] - 0s 3ms/step - loss: 0.8733 - lr: 1.0000e-04\n",
      "Epoch 148/200\n",
      "6/6 [==============================] - 0s 3ms/step - loss: 0.8980 - lr: 1.0000e-04\n",
      "Epoch 149/200\n",
      "6/6 [==============================] - 0s 3ms/step - loss: 0.8905 - lr: 1.0000e-04\n",
      "Epoch 150/200\n",
      "6/6 [==============================] - 0s 3ms/step - loss: 0.8734 - lr: 1.0000e-04\n",
      "Epoch 151/200\n",
      "6/6 [==============================] - 0s 3ms/step - loss: 0.8726 - lr: 1.0000e-04\n",
      "Epoch 152/200\n",
      "6/6 [==============================] - 0s 3ms/step - loss: 0.8735 - lr: 1.0000e-04\n",
      "Epoch 153/200\n",
      "6/6 [==============================] - 0s 3ms/step - loss: 0.8751 - lr: 1.0000e-04\n",
      "Epoch 154/200\n",
      "6/6 [==============================] - 0s 3ms/step - loss: 0.8716 - lr: 1.0000e-04\n",
      "Epoch 155/200\n",
      "6/6 [==============================] - 0s 5ms/step - loss: 0.8725 - lr: 1.0000e-04\n",
      "Epoch 156/200\n",
      "6/6 [==============================] - 0s 5ms/step - loss: 0.8722 - lr: 1.0000e-04\n",
      "Epoch 157/200\n",
      "6/6 [==============================] - 0s 4ms/step - loss: 0.8821 - lr: 1.0000e-04\n",
      "Epoch 158/200\n",
      "6/6 [==============================] - 0s 4ms/step - loss: 0.8710 - lr: 1.0000e-04\n",
      "Epoch 159/200\n",
      "6/6 [==============================] - 0s 5ms/step - loss: 0.8865 - lr: 1.0000e-04\n",
      "Epoch 160/200\n",
      "6/6 [==============================] - 0s 3ms/step - loss: 0.8907 - lr: 1.0000e-04\n",
      "Epoch 161/200\n",
      "6/6 [==============================] - 0s 3ms/step - loss: 0.8683 - lr: 1.0000e-04\n",
      "Epoch 162/200\n",
      "6/6 [==============================] - 0s 4ms/step - loss: 0.8770 - lr: 1.0000e-04\n",
      "Epoch 163/200\n",
      "6/6 [==============================] - 0s 3ms/step - loss: 0.8765 - lr: 1.0000e-04\n",
      "Epoch 164/200\n",
      "6/6 [==============================] - 0s 4ms/step - loss: 0.8705 - lr: 1.0000e-04\n",
      "Epoch 165/200\n",
      "6/6 [==============================] - 0s 3ms/step - loss: 0.8713 - lr: 1.0000e-04\n",
      "Epoch 166/200\n",
      "6/6 [==============================] - 0s 4ms/step - loss: 0.8715 - lr: 1.0000e-04\n",
      "Epoch 167/200\n",
      "6/6 [==============================] - 0s 3ms/step - loss: 0.8734 - lr: 1.0000e-04\n",
      "Epoch 168/200\n",
      "6/6 [==============================] - 0s 4ms/step - loss: 0.8709 - lr: 1.0000e-04\n",
      "Epoch 169/200\n",
      "6/6 [==============================] - 0s 5ms/step - loss: 0.8771 - lr: 1.0000e-04\n",
      "Epoch 170/200\n",
      "6/6 [==============================] - 0s 3ms/step - loss: 0.8722 - lr: 1.0000e-04\n",
      "Epoch 171/200\n",
      "6/6 [==============================] - 0s 3ms/step - loss: 0.8757 - lr: 1.0000e-04\n",
      "Epoch 172/200\n",
      "6/6 [==============================] - 0s 4ms/step - loss: 0.8692 - lr: 1.0000e-04\n",
      "Epoch 173/200\n",
      "6/6 [==============================] - 0s 4ms/step - loss: 0.8774 - lr: 1.0000e-04\n",
      "Epoch 174/200\n",
      "6/6 [==============================] - 0s 4ms/step - loss: 0.8833 - lr: 1.0000e-04\n",
      "Epoch 175/200\n",
      "6/6 [==============================] - 0s 3ms/step - loss: 0.8757 - lr: 1.0000e-04\n",
      "Epoch 176/200\n",
      "6/6 [==============================] - 0s 3ms/step - loss: 0.8888 - lr: 1.0000e-04\n",
      "Epoch 177/200\n",
      "6/6 [==============================] - 0s 4ms/step - loss: 0.8754 - lr: 1.0000e-04\n",
      "Epoch 178/200\n",
      "6/6 [==============================] - 0s 3ms/step - loss: 0.8708 - lr: 1.0000e-04\n",
      "Epoch 179/200\n",
      "6/6 [==============================] - 0s 4ms/step - loss: 0.8711 - lr: 1.0000e-04\n",
      "Epoch 180/200\n",
      "6/6 [==============================] - 0s 4ms/step - loss: 0.8733 - lr: 1.0000e-04\n",
      "Epoch 181/200\n",
      "6/6 [==============================] - 0s 4ms/step - loss: 0.8712 - lr: 1.0000e-04\n",
      "Epoch 182/200\n",
      "6/6 [==============================] - 0s 5ms/step - loss: 0.8737 - lr: 1.0000e-04\n",
      "Epoch 183/200\n",
      "6/6 [==============================] - 0s 5ms/step - loss: 0.8752 - lr: 1.0000e-04\n",
      "Epoch 184/200\n",
      "6/6 [==============================] - 0s 4ms/step - loss: 0.8752 - lr: 1.0000e-04\n",
      "Epoch 185/200\n",
      "6/6 [==============================] - 0s 4ms/step - loss: 0.8725 - lr: 1.0000e-04\n",
      "Epoch 186/200\n",
      "6/6 [==============================] - 0s 4ms/step - loss: 0.8763 - lr: 1.0000e-04\n",
      "Epoch 187/200\n",
      "6/6 [==============================] - 0s 4ms/step - loss: 0.8720 - lr: 1.0000e-04\n",
      "Epoch 188/200\n",
      "6/6 [==============================] - 0s 4ms/step - loss: 0.9033 - lr: 1.0000e-04\n",
      "Epoch 189/200\n",
      "6/6 [==============================] - 0s 3ms/step - loss: 0.8829 - lr: 1.0000e-04\n",
      "Epoch 190/200\n",
      "6/6 [==============================] - 0s 5ms/step - loss: 0.9084 - lr: 1.0000e-04\n",
      "Epoch 191/200\n",
      "6/6 [==============================] - 0s 4ms/step - loss: 0.8963 - lr: 1.0000e-04\n",
      "Epoch 192/200\n",
      "6/6 [==============================] - 0s 4ms/step - loss: 0.8732 - lr: 1.0000e-04\n",
      "Epoch 193/200\n",
      "6/6 [==============================] - 0s 4ms/step - loss: 0.9033 - lr: 1.0000e-04\n",
      "Epoch 194/200\n",
      "6/6 [==============================] - 0s 4ms/step - loss: 0.8778 - lr: 1.0000e-04\n",
      "Epoch 195/200\n",
      "6/6 [==============================] - 0s 4ms/step - loss: 0.8725 - lr: 1.0000e-04\n",
      "Epoch 196/200\n",
      "6/6 [==============================] - 0s 5ms/step - loss: 0.8756 - lr: 1.0000e-04\n",
      "Epoch 197/200\n",
      "6/6 [==============================] - 0s 4ms/step - loss: 0.8726 - lr: 1.0000e-04\n",
      "Epoch 198/200\n",
      "6/6 [==============================] - 0s 4ms/step - loss: 0.8712 - lr: 1.0000e-04\n",
      "Epoch 199/200\n",
      "6/6 [==============================] - 0s 4ms/step - loss: 0.8731 - lr: 1.0000e-04\n",
      "Epoch 200/200\n",
      "6/6 [==============================] - 0s 4ms/step - loss: 0.8766 - lr: 1.0000e-04\n"
     ]
    }
   ],
   "source": [
    "r = model_regression_0.fit(X, Y, epochs=200, callbacks=[scheduler])"
   ]
  },
  {
   "cell_type": "code",
   "execution_count": 302,
   "metadata": {},
   "outputs": [
    {
     "data": {
      "image/png": "[encoded data removed]",
      "text/plain": [
       "<Figure size 640x480 with 1 Axes>"
      ]
     },
     "metadata": {},
     "output_type": "display_data"
    }
   ],
   "source": [
    "# Plot the loss\n",
    "plt.plot(r.history['loss'], label='loss');\n",
    "plt.legend();"
   ]
  },
  {
   "cell_type": "code",
   "execution_count": 303,
   "metadata": {},
   "outputs": [
    {
     "data": {
      "text/plain": [
       "[<keras.src.layers.core.dense.Dense at 0x7f5d1d541b20>]"
      ]
     },
     "execution_count": 303,
     "metadata": {},
     "output_type": "execute_result"
    }
   ],
   "source": [
    "model_regression_0.layers"
   ]
  },
  {
   "cell_type": "code",
   "execution_count": 304,
   "metadata": {},
   "outputs": [
    {
     "data": {
      "text/plain": [
       "<keras.src.layers.core.dense.Dense at 0x7f5d1d541b20>"
      ]
     },
     "execution_count": 304,
     "metadata": {},
     "output_type": "execute_result"
    }
   ],
   "source": [
    "model_regression_0.layers[0]"
   ]
  },
  {
   "cell_type": "code",
   "execution_count": 305,
   "metadata": {},
   "outputs": [
    {
     "data": {
      "text/plain": [
       "[array([[0.34173113]], dtype=float32), array([17.771019], dtype=float32)]"
      ]
     },
     "execution_count": 305,
     "metadata": {},
     "output_type": "execute_result"
    }
   ],
   "source": [
    "model_regression_0.layers[0].get_weights()"
   ]
  },
  {
   "cell_type": "code",
   "execution_count": 306,
   "metadata": {},
   "outputs": [
    {
     "data": {
      "text/plain": [
       "0.34173113"
      ]
     },
     "execution_count": 306,
     "metadata": {},
     "output_type": "execute_result"
    }
   ],
   "source": [
    "a = model_regression_0.layers[0].get_weights()[0][0, 0]\n",
    "a"
   ]
  },
  {
   "cell_type": "markdown",
   "metadata": {},
   "source": [
    "$$C = A_0r^t$$\n",
    "$$log(C) = log(A_0) + tlog(r)$$\n",
    "$$\\hat{y} = ax + b$$\n",
    "\n",
    "where\n",
    "\n",
    "$$\\hat{y} = log(C)$$\n",
    "$$x = t$$\n",
    "$$a = log(r)$$\n",
    "$$b = log(A_0)$$\n",
    "\n",
    "Great! The a is the weight and the b is the bias. We can use the neural network to find the best values for a and b. Let's calculate it.\n",
    "\n",
    "a = 0.34547055, then r = exp(0.34547055) = 1.4076"
   ]
  },
  {
   "cell_type": "code",
   "execution_count": 307,
   "metadata": {},
   "outputs": [
    {
     "name": "stdout",
     "output_type": "stream",
     "text": [
      "Time to double: 2.0283407554231365\n"
     ]
    }
   ],
   "source": [
    "print(\"Time to double:\", np.log(2) / a)"
   ]
  },
  {
   "cell_type": "code",
   "execution_count": 308,
   "metadata": {},
   "outputs": [
    {
     "name": "stdout",
     "output_type": "stream",
     "text": [
      "0.34168248738731344 17.764939393631767\n"
     ]
    }
   ],
   "source": [
    "X = X.flatten()\n",
    "denominator = X.dot(X) - X.mean() * X.sum()\n",
    "a = ( X.dot(Y) - Y.mean()*X.sum() ) / denominator\n",
    "b = ( Y.mean() * X.dot(X) - X.mean() * X.dot(Y) ) / denominator\n",
    "print(a, b)"
   ]
  },
  {
   "cell_type": "markdown",
   "metadata": {},
   "source": [
    "## Prediction"
   ]
  },
  {
   "cell_type": "code",
   "execution_count": 309,
   "metadata": {},
   "outputs": [
    {
     "name": "stdout",
     "output_type": "stream",
     "text": [
      "6/6 [==============================] - 0s 3ms/step\n"
     ]
    },
    {
     "data": {
      "image/png": "[encoded data removed]",
      "text/plain": [
       "<Figure size 640x480 with 1 Axes>"
      ]
     },
     "metadata": {},
     "output_type": "display_data"
    }
   ],
   "source": [
    "# Make sure the line fits our data\n",
    "Yhat = model_regression_0.predict(X).flatten()\n",
    "plt.scatter(X, Y)\n",
    "plt.plot(X, Yhat, color='red');"
   ]
  },
  {
   "cell_type": "code",
   "execution_count": 310,
   "metadata": {},
   "outputs": [
    {
     "data": {
      "text/plain": [
       "True"
      ]
     },
     "execution_count": 310,
     "metadata": {},
     "output_type": "execute_result"
    }
   ],
   "source": [
    "# Manual calculation\n",
    "# Get the weights\n",
    "w, b = model_regression_0.layers[0].get_weights()\n",
    "\n",
    "# Reshape X because we flattened it again earlier\n",
    "X = X.reshape(-1, 1)\n",
    "\n",
    "# (N x 1) x (1 x 1) + (1) -> N x 1\n",
    "Yhat2 = (X.dot(w) + b).flatten()\n",
    "\n",
    "# Don't use == for floating points\n",
    "np.allclose(Yhat, Yhat2)"
   ]
  },
  {
   "cell_type": "markdown",
   "metadata": {},
   "source": [
    "# Saving and Loading the model"
   ]
  },
  {
   "cell_type": "code",
   "execution_count": 312,
   "metadata": {},
   "outputs": [
    {
     "name": "stdout",
     "output_type": "stream",
     "text": [
      "DL01_regression.ipynb  linear_regression.keras\tmoore.csv\n"
     ]
    }
   ],
   "source": [
    "\n",
    "!ls"
   ]
  },
  {
   "cell_type": "code",
   "execution_count": 313,
   "metadata": {},
   "outputs": [],
   "source": [
    "model = tf.keras.models.load_model('linear_regression.keras')"
   ]
  }
 ],
 "metadata": {
  "kernelspec": {
   "display_name": "so_deep",
   "language": "python",
   "name": "python3"
  },
  "language_info": {
   "codemirror_mode": {
    "name": "ipython",
    "version": 3
   },
   "file_extension": ".py",
   "mimetype": "text/x-python",
   "name": "python",
   "nbconvert_exporter": "python",
   "pygments_lexer": "ipython3",
   "version": "3.9.18"
  }
 },
 "nbformat": 4,
 "nbformat_minor": 2
}
